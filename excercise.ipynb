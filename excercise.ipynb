{
 "cells": [
  {
   "cell_type": "markdown",
   "metadata": {},
   "source": [
    "### **Tutorial: Explainable AI for Unsupervised Learning**\n",
    "\n",
    "\n",
    "Within this tutorial you will learn to implement [`ClusterExplainR`](https://doi.org/10.1007/978-3-031-63797-1_3)'s local Feature Importance Score ($lFIS$)  developed by Amling et.al in 2024.\n",
    "\n",
    "\n",
    "## **Preamble: Load a Dataset into a [Pandas DataFrame](https://pandas.pydata.org/docs/reference/api/pandas.DataFrame.html)**\n",
    "\n",
    "Load the dataset `mocked_dataset.csv` into a Pandas DataFrame using [`pd.read_csv`](https://pandas.pydata.org/docs/reference/api/pandas.read_csv.html) and display its contents."
   ]
  },
  {
   "cell_type": "code",
   "execution_count": 1,
   "metadata": {},
   "outputs": [],
   "source": [
    "import pandas as pd\n",
    "\n",
    "tutorial_dataset = None"
   ]
  },
  {
   "cell_type": "markdown",
   "metadata": {},
   "source": [
    "## **Task 1: Visualize Data**\n",
    "Manually inspect the dataset to identify two important variables to plot on the x and y axes. Use the cluster column to assign colors to the points.\n",
    "\n",
    "**Tip:** Use the [`sns.catplot`](https://seaborn.pydata.org/generated/seaborn.catplot.html) function."
   ]
  },
  {
   "cell_type": "code",
   "execution_count": 2,
   "metadata": {},
   "outputs": [],
   "source": [
    "import seaborn as sns \n"
   ]
  },
  {
   "cell_type": "markdown",
   "metadata": {},
   "source": [
    "## **Task 2: Calculate Shannon Entropy**\n",
    "\n",
    "Calculate the [Shannon entropy](https://en.wikipedia.org/wiki/Entropy_(information_theory)) of a given probability distribution $ P $, using the following formula:\n",
    "\n",
    "$$\n",
    "H_{\\text{Shannon}} = -\\sum_{i=1}^{M} P_i \\, \\log_2 \\, P_i\n",
    "$$\n",
    "\n",
    "### Implementation Steps:\n",
    "1. **Using NumPy Log function**:\n",
    "   - Use the [`numpy.log2`](https://numpy.org/doc/2.1/reference/generated/numpy.log2.html) function for the logarithm.\n",
    "\n",
    "2. **Using the Power of NumPy**:\n",
    "   - Perform the entire entropy calculation efficiently using NumPy's  [`numpy.sum`](https://numpy.org/doc/2.1/reference/generated/numpy.sum.html) and `np.log2`.\n",
    "\n",
    "3. **Using the [`scipy`](https://docs.scipy.org/doc/scipy/index.html) Package**:\n",
    "   - Use the entropy function from [`scipy.stats`](https://docs.scipy.org/doc/scipy/reference/generated/scipy.stats.entropy.html#scipy.stats.entropy) for an alternative approach.\n",
    "\n",
    "**Result**:  $$ H(\\text{probabilities}) \\approx 1.74 $$"
   ]
  },
  {
   "cell_type": "code",
   "execution_count": null,
   "metadata": {},
   "outputs": [],
   "source": [
    "import numpy as np\n",
    "from scipy.stats import entropy\n",
    "\n",
    "probabilities = [0.5, 0.25, 0.15, 0.1]\n",
    "\n",
    "\n",
    "def compute_entropy_manual(probabilities):\n",
    "    \"\"\"Computes entropy manually, only using np.log2.\"\"\"\n",
    "    pass\n",
    "\n",
    "\n",
    "def compute_entropy_numpy(probabilities):\n",
    "    \"\"\"Computes entropy using the complete power of numpy\"\"\"\n",
    "    pass\n",
    "\n",
    "\n",
    "def compute_entropy_scipy(probabilities):\n",
    "    pass\n",
    "\n",
    "\n",
    "print(f\"entropy manual : {compute_entropy_manual(probabilities)}\")\n",
    "print(f\"entropy numpy : {compute_entropy_numpy(probabilities)}\")\n",
    "print(f\"entropy scipy : {compute_entropy_scipy(probabilities)}\")"
   ]
  },
  {
   "cell_type": "markdown",
   "metadata": {},
   "source": [
    "\n",
    "## **Task 3: Manually Calculate the Local FIS Score**\n",
    "\n",
    "For Cluster **B**, calculate the **local FIS (lFIS) values** for all three features: **Group**, **Type**, and **Subgroup**.\n",
    "\n",
    "The formula to calculate lFIS is as follows:\n",
    "\n",
    "$$\n",
    "lFIS(X, B) = 1 - \\min\\left(H(X_B) \\cdot H(X)^{-1}, 1\\right)\n",
    "$$\n",
    "\n",
    "Where:\n",
    "- $ H(X) $: Entropy of the feature $X$.\n",
    "- $ H(X_B) $: Entropy of feature $X$ given a Cluster.\n",
    "\n",
    "**Solutions**:\n",
    "- $lFIS (\\text{'Group', 'B'}) \\approx 0,51$\n",
    "- $lFIS (\\text{'Type', 'B'}) \\approx 1$\n",
    "- $lFIS (\\text{'Subgroup', 'B'}) \\approx 0.27$"
   ]
  },
  {
   "cell_type": "markdown",
   "metadata": {},
   "source": [
    "## **Task 4: Implement a Function to Calculate Local FIS**\n",
    "\n",
    "Write a Python function to calculate the **local FIS** for a given cluster and feature, using the following steps:\n",
    "\n",
    "1. Compute the entropy of the entire population for the specified feature $ H(\\text{population}) $.\n",
    "2. Compute the entropy of the feature within the given cluster $ H(\\text{cluster}) $.\n",
    "3. Handle edge cases:\n",
    "   - If $ H(\\text{cluster}) = 0 $, return ?.\n",
    "   - If $ H(\\text{population}) = 0 $, return ?.\n",
    "\n",
    "### Function Parameters:\n",
    "- `clustered_data`: A Pandas DataFrame containing the dataset.\n",
    "- `cluster_id`: The specific cluster ID to calculate the FIS for.\n",
    "- `feature_name`: The name of the feature for which the FIS is calculated.\n",
    "- `cluster_column_name` (default: `\"Cluster\"`): The name of the column that identifies clusters in the dataset.\n",
    "\n",
    "**Tips**: \n",
    "- in order to verify your outcomes check the solutions proposed in **Task 3**\n",
    "- in order to calculate the use value distributions use [`pd.Series.value_counts`](https://pandas.pydata.org/docs/reference/api/pandas.Series.value_counts.html)"
   ]
  },
  {
   "cell_type": "code",
   "execution_count": null,
   "metadata": {},
   "outputs": [],
   "source": [
    "def calculate_local_FIS(\n",
    "    clustered_data: pd.DataFrame,\n",
    "    cluster_id: any,\n",
    "    feature_name: str,\n",
    "    cluster_column_name: str = \"Cluster\",\n",
    ") -> float: \n",
    "    \"\"\"\n",
    "    Calculates the local Feature Information Score (lFIS) for a specific feature and cluster.\n",
    "\n",
    "    The local FIS measures the importance of a feature to a given cluster by comparing \n",
    "    the feature's entropy within the cluster to its entropy in the entire dataset.\n",
    "\n",
    "    Args:\n",
    "        clustered_data (pd.DataFrame): The dataset containing the features and cluster information.\n",
    "        cluster_id (any): The ID of the cluster to calculate the local FIS for.\n",
    "        feature_name (str): The name of the feature to calculate the local FIS for.\n",
    "        cluster_column_name (str, optional): The column name identifying clusters in the dataset.\n",
    "            Defaults to \"Cluster\".\n",
    "\n",
    "    Returns:\n",
    "        float: The local FIS value for the specified feature and cluster. \n",
    "    \"\"\"\n",
    "    pass\n",
    "\n",
    "print(f\"Importance of `Type` to Custer `B`: {calculate_local_FIS(tutorial_dataset,'B','Type')}\") # 1\n",
    "print(f\"Importance of `Group` to Custer `B`: {calculate_local_FIS(tutorial_dataset,'B','Group')}\") # ~ 0.51\n",
    "print(f\"Importance of `Subgroup` to Custer `B`: {calculate_local_FIS(tutorial_dataset,'B','Subgroup')}\") # ~0.27"
   ]
  },
  {
   "cell_type": "markdown",
   "metadata": {},
   "source": [
    "## **Task 5: Use the `calculate_local_FIS` Function**\n",
    "\n",
    "Use the `calculate_local_FIS` function to compute the **local FIS values** for all features, given a specific cluster.\n",
    "\n",
    "#### **Output Requirement**:\n",
    "The result should be a `pd.DataFrame` with the following columns:\n",
    "- `Feature`: The name of the feature for which the lFIS was calculated.\n",
    "- `lFIS`: The computed local FIS value.\n",
    "- `Cluster`: The cluster ID used in the calculation.\n"
   ]
  },
  {
   "cell_type": "code",
   "execution_count": 5,
   "metadata": {},
   "outputs": [],
   "source": [
    "def calculate_local_FIS_for_all_features(\n",
    "    clustered_data: pd.DataFrame, cluster_id: any, cluster_column_name: str = \"Cluster\"\n",
    ") -> pd.DataFrame:\n",
    "    \"\"\"\n",
    "    Calculates the local FIS (Fuzzy Information Score) for all features within a given cluster.\n",
    "\n",
    "    This function computes the lFIS for each feature in the dataset (excluding the cluster column) \n",
    "    for the specified cluster, and returns a sorted DataFrame containing the results.\n",
    "\n",
    "    Args:\n",
    "        clustered_data (pd.DataFrame): The dataset containing the features and cluster information.\n",
    "        cluster_id (any): The ID of the cluster to calculate local FIS values for.\n",
    "        cluster_column_name (str, optional): The column name identifying clusters in the dataset.\n",
    "            Defaults to \"Cluster\".\n",
    "\n",
    "    Returns:\n",
    "        pd.DataFrame: A DataFrame containing the following columns:\n",
    "            - Feature: The name of each feature.\n",
    "            - lFIS: The local FIS value for each feature.\n",
    "            - Cluster: The cluster ID used in the calculation.\n",
    "    \"\"\"\n",
    "    pass\n",
    "\n",
    "calculate_local_FIS_for_all_features(tutorial_dataset, 'B')"
   ]
  },
  {
   "cell_type": "markdown",
   "metadata": {},
   "source": [
    "## **Task 6: Calculate the Global FIS Score**\n",
    "Use the provided function to calculate the **global FIS score** for each feature in the dataset. The **global FIS score** aggregates the local FIS values for each feature across all clusters.\n",
    "\n",
    "#### **Output**:\n",
    "The result should be a `pd.DataFrame` with the following columns:\n",
    "- `Feature`: The name of the feature.\n",
    "- `mean`: The mean local FIS score across all clusters ($gFIS$).\n",
    "- `min`: The minimum local FIS score across all clusters.\n",
    "- `max`: The maximum local FIS score across all clusters.\n",
    "\n",
    "### **Steps**:\n",
    "1. *Loop through all clusters*: Iterate over the unique cluster IDs i.\n",
    "2. *Calculate local FIS for all features*: For each cluster, use the `calculate_local_FIS_for_all_features` function.\n",
    "3. *Combine the results*: Use [`pd.concat`](https://pandas.pydata.org/docs/reference/api/pandas.concat.html) to merge the local FIS results from all clusters into a single DataFrame.\n",
    "4. *Group and aggregate*: Use the [`pd.DataFrame.groupby`](https://pandas.pydata.org/docs/reference/api/pandas.DataFrame.groupby.html)  and [`pd.DataFrame.agg`](https://pandas.pydata.org/docs/reference/api/pandas.DataFrame.agg.html) function to calculate the $gFIS$ score .\n",
    "5. *Sort the DataFrame*: Sort the resulting DataFrame by the $gFIS$ value.\n"
   ]
  },
  {
   "cell_type": "code",
   "execution_count": 6,
   "metadata": {},
   "outputs": [],
   "source": [
    "def calculate_global_FIS(\n",
    "    clustered_data: pd.DataFrame, cluster_column_name: str = \"Cluster\"\n",
    ") -> pd.DataFrame:\n",
    "    \"\"\"\n",
    "    Calculates the global FIS for all features across all clusters.\n",
    "\n",
    "    This function computes the local FIS values for all features within each cluster,\n",
    "    aggregates these values across clusters, and computes summary statistics (mean, min, max)\n",
    "    for each feature.\n",
    "\n",
    "    Args:\n",
    "        clustered_data (pd.DataFrame): The dataset containing features and cluster information.\n",
    "        cluster_column_name (str, optional): The column name identifying clusters in the dataset.\n",
    "            Defaults to \"Cluster\".\n",
    "\n",
    "    Returns:\n",
    "        pd.DataFrame: A DataFrame containing the following columns:\n",
    "            - Feature: The name of each feature.\n",
    "            - mean: The mean local FIS value across all clusters.\n",
    "            - min: The minimum local FIS value across all clusters.\n",
    "            - max: The maximum local FIS value across all clusters.\n",
    "    \"\"\"\n",
    "    pass\n",
    "\n",
    "\n",
    "calculate_global_FIS(tutorial_dataset)"
   ]
  }
 ],
 "metadata": {
  "kernelspec": {
   "display_name": "Python 3",
   "language": "python",
   "name": "python3"
  },
  "language_info": {
   "codemirror_mode": {
    "name": "ipython",
    "version": 3
   },
   "file_extension": ".py",
   "mimetype": "text/x-python",
   "name": "python",
   "nbconvert_exporter": "python",
   "pygments_lexer": "ipython3",
   "version": "3.12.8"
  }
 },
 "nbformat": 4,
 "nbformat_minor": 2
}
